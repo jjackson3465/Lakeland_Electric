version https://git-lfs.github.com/spec/v1
oid sha256:25dc161dacc67b8408b3e38d34591bb3354dadcc33d5efb27006d4c9c450d320
size 9954
