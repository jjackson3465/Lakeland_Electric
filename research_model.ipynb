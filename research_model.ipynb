version https://git-lfs.github.com/spec/v1
oid sha256:4ec4fd0a43ba7180cae83b81fc681527108b3aec13e49f4f04e814874283e156
size 2698444
