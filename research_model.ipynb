version https://git-lfs.github.com/spec/v1
oid sha256:6df10c7b4bc408becc1418d8ab228092b1bda16362dc4f3155db7989449d3840
size 3674849
