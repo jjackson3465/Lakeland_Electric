version https://git-lfs.github.com/spec/v1
oid sha256:825df46016e9898f9a20b9635953e80725d58e12ec9e50f8e248bb8ac4302f83
size 6726619
