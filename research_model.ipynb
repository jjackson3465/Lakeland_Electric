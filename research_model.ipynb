version https://git-lfs.github.com/spec/v1
oid sha256:d79d6c7fe97fa531b498cd853722904c3ee39f7e2671a377ce8cb57c4998dfbf
size 7197883
