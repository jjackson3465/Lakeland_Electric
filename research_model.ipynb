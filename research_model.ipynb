version https://git-lfs.github.com/spec/v1
oid sha256:8c40c6f7833436e7e415f5c01acfc8bf3e21b5afcc0575824c7668ece6a6472b
size 7012789
