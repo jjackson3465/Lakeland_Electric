version https://git-lfs.github.com/spec/v1
oid sha256:8b6960b49208f3742f332c3958317db32d9e52becc02aea063a593ea315c77d9
size 212852
