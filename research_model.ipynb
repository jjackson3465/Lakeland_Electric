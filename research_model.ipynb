version https://git-lfs.github.com/spec/v1
oid sha256:5cb565dd497dd80d3d1aab2f899841db68bcf6cec6b41ac4dd0758ace54862bb
size 6744543
