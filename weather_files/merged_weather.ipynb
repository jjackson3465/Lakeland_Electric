version https://git-lfs.github.com/spec/v1
oid sha256:ea54556c4a170e81e3685ea203b6412ee3f301b828b94f940957b3dca9cde7a0
size 16762
