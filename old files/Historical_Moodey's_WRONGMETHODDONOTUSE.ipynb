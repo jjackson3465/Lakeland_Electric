version https://git-lfs.github.com/spec/v1
oid sha256:71f96b5ba6aacbcef0f9b96a2e9189360b5339428ca622c4b00218e397721aab
size 44744
