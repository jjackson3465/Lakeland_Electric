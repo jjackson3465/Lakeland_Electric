version https://git-lfs.github.com/spec/v1
oid sha256:5203400f9ffe1b9d10cb1adaa2066c6794d52590600bf302855374b04b5ca335
size 2243894
